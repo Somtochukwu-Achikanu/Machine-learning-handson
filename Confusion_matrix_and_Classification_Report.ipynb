{
  "nbformat": 4,
  "nbformat_minor": 0,
  "metadata": {
    "colab": {
      "provenance": [],
      "authorship_tag": "ABX9TyNhK1aZnNitJkNTFQvTzTtt",
      "include_colab_link": true
    },
    "kernelspec": {
      "name": "python3",
      "display_name": "Python 3"
    },
    "language_info": {
      "name": "python"
    }
  },
  "cells": [
    {
      "cell_type": "markdown",
      "metadata": {
        "id": "view-in-github",
        "colab_type": "text"
      },
      "source": [
        "<a href=\"https://colab.research.google.com/github/Somtochukwu-Achikanu/Machine-learning-handson/blob/main/Confusion_matrix_and_Classification_Report.ipynb\" target=\"_parent\"><img src=\"https://colab.research.google.com/assets/colab-badge.svg\" alt=\"Open In Colab\"/></a>"
      ]
    },
    {
      "cell_type": "code",
      "execution_count": 7,
      "metadata": {
        "id": "Vl87aKI34fPa"
      },
      "outputs": [],
      "source": [
        "import pandas as pd\n",
        "from sklearn.neighbors import KNeighborsClassifier\n",
        "from sklearn.metrics import classification_report, confusion_matrix\n",
        "from sklearn.model_selection import train_test_split"
      ]
    },
    {
      "cell_type": "code",
      "source": [
        "diabetes = pd.read_csv('/content/diabetes_clean.csv')\n",
        "print(diabetes.head())"
      ],
      "metadata": {
        "colab": {
          "base_uri": "https://localhost:8080/"
        },
        "id": "3lTiEHLv5wkN",
        "outputId": "6ae7532a-c258-4d55-975e-cb91e1146701"
      },
      "execution_count": 4,
      "outputs": [
        {
          "output_type": "stream",
          "name": "stdout",
          "text": [
            "   pregnancies  glucose  diastolic  triceps  insulin   bmi    dpf  age  \\\n",
            "0            6      148         72       35        0  33.6  0.627   50   \n",
            "1            1       85         66       29        0  26.6  0.351   31   \n",
            "2            8      183         64        0        0  23.3  0.672   32   \n",
            "3            1       89         66       23       94  28.1  0.167   21   \n",
            "4            0      137         40       35      168  43.1  2.288   33   \n",
            "\n",
            "   diabetes  \n",
            "0         1  \n",
            "1         0  \n",
            "2         1  \n",
            "3         0  \n",
            "4         1  \n"
          ]
        }
      ]
    },
    {
      "cell_type": "code",
      "source": [
        "X = diabetes.drop('diabetes', axis = 1).values\n",
        "y = diabetes['diabetes'].values\n",
        "\n",
        "X_train,X_test,y_train,y_test = train_test_split(X,y,test_size =0.3, random_state= 21)"
      ],
      "metadata": {
        "id": "cQNLF9OG53m2"
      },
      "execution_count": 8,
      "outputs": []
    },
    {
      "cell_type": "code",
      "source": [
        "#Model Evaluation\n",
        "knn = KNeighborsClassifier()\n",
        " #Fit Training data into model\n",
        "knn.fit(X_train,y_train)\n",
        "\n",
        "pred = knn.predict(X_test)\n",
        "\n",
        "\n",
        "#Classification report and Confusion matrix\n",
        "print(confusion_matrix(y_test, pred))\n",
        "print(classification_report(y_test, pred))"
      ],
      "metadata": {
        "colab": {
          "base_uri": "https://localhost:8080/"
        },
        "id": "p6Hm1nm-63Hg",
        "outputId": "490f91fe-a7b6-4cc7-b9b9-32f04b96e192"
      },
      "execution_count": 10,
      "outputs": [
        {
          "output_type": "stream",
          "name": "stdout",
          "text": [
            "[[129  15]\n",
            " [ 60  27]]\n",
            "              precision    recall  f1-score   support\n",
            "\n",
            "           0       0.68      0.90      0.77       144\n",
            "           1       0.64      0.31      0.42        87\n",
            "\n",
            "    accuracy                           0.68       231\n",
            "   macro avg       0.66      0.60      0.60       231\n",
            "weighted avg       0.67      0.68      0.64       231\n",
            "\n"
          ]
        }
      ]
    },
    {
      "cell_type": "markdown",
      "source": [
        "The model produced 27 true positives and 15 false positives, meaning precision was less than 50%, which is confirmed in the classification report. The output also shows a better F1-score for the zero class, which represents individuals who do not have diabetes."
      ],
      "metadata": {
        "id": "j0WI1nF07qfd"
      }
    }
  ]
}